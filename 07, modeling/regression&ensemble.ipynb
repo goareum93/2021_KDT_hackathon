{
  "nbformat": 4,
  "nbformat_minor": 0,
  "metadata": {
    "colab": {
      "name": "regression&ensemble",
      "provenance": [],
      "toc_visible": true
    },
    "kernelspec": {
      "name": "python3",
      "display_name": "Python 3"
    },
    "language_info": {
      "name": "python"
    }
  },
  "cells": [
    {
      "cell_type": "code",
      "metadata": {
        "colab": {
          "base_uri": "https://localhost:8080/"
        },
        "id": "BPqbud8zIN3m",
        "outputId": "89695a33-a0aa-4776-9ae8-e0c8f126fedf"
      },
      "source": [
        "from google.colab import drive\n",
        "drive.mount('/content/drive')"
      ],
      "execution_count": 9,
      "outputs": [
        {
          "output_type": "stream",
          "text": [
            "Drive already mounted at /content/drive; to attempt to forcibly remount, call drive.mount(\"/content/drive\", force_remount=True).\n"
          ],
          "name": "stdout"
        }
      ]
    },
    {
      "cell_type": "code",
      "metadata": {
        "id": "Z-YkYCSlH-i2"
      },
      "source": [
        "import pandas as pd\n",
        "import numpy as np\n",
        "import matplotlib.pyplot as plt\n",
        "import datetime\n",
        "from datetime import timedelta, time\n",
        "from tqdm import tqdm\n",
        "# pandas max row \n",
        "pd.options.display.max_rows = 1000\n",
        "pd.options.display.max_columns = 1000"
      ],
      "execution_count": 5,
      "outputs": []
    },
    {
      "cell_type": "code",
      "metadata": {
        "id": "n1BVBEi4hZVY"
      },
      "source": [
        "from warnings import filterwarnings\n",
        "filterwarnings('ignore')\n",
        "from IPython.core.interactiveshell import InteractiveShell\n",
        "InteractiveShell.ast_node_interactivity = \"all\"\n",
        "\n",
        "import seaborn as sns\n",
        "%matplotlib inline\n",
        "import statsmodels.api as sm"
      ],
      "execution_count": 6,
      "outputs": []
    },
    {
      "cell_type": "code",
      "metadata": {
        "colab": {
          "base_uri": "https://localhost:8080/",
          "height": 466
        },
        "id": "FtqvPv3WIL9n",
        "outputId": "de87cd8d-b2e1-4c41-e667-926c9f0db991"
      },
      "source": [
        "tot_df = pd.read_csv('/content/drive/MyDrive/KDT/tot_df.csv', names = ['forecast_time', 'solar_result', 'temp', 'rain_r', 'hum', 'wind', 'wins','sky'])\n",
        "tot_df = tot_df[1:]\n",
        "tot_df['forecast_time'] = pd.to_datetime(tot_df['forecast_time'], format = '%Y%m%d%H')\n",
        "data = tot_df.iloc[6:]\n",
        "data.head()"
      ],
      "execution_count": 10,
      "outputs": [
        {
          "output_type": "error",
          "ename": "FileNotFoundError",
          "evalue": "ignored",
          "traceback": [
            "\u001b[0;31m---------------------------------------------------------------------------\u001b[0m",
            "\u001b[0;31mFileNotFoundError\u001b[0m                         Traceback (most recent call last)",
            "\u001b[0;32m<ipython-input-10-f2f093e6725c>\u001b[0m in \u001b[0;36m<module>\u001b[0;34m()\u001b[0m\n\u001b[0;32m----> 1\u001b[0;31m \u001b[0mtot_df\u001b[0m \u001b[0;34m=\u001b[0m \u001b[0mpd\u001b[0m\u001b[0;34m.\u001b[0m\u001b[0mread_csv\u001b[0m\u001b[0;34m(\u001b[0m\u001b[0;34m'/content/drive/MyDrive/KDT/tot_df.csv'\u001b[0m\u001b[0;34m,\u001b[0m \u001b[0mnames\u001b[0m \u001b[0;34m=\u001b[0m \u001b[0;34m[\u001b[0m\u001b[0;34m'forecast_time'\u001b[0m\u001b[0;34m,\u001b[0m \u001b[0;34m'solar_result'\u001b[0m\u001b[0;34m,\u001b[0m \u001b[0;34m'temp'\u001b[0m\u001b[0;34m,\u001b[0m \u001b[0;34m'rain_r'\u001b[0m\u001b[0;34m,\u001b[0m \u001b[0;34m'hum'\u001b[0m\u001b[0;34m,\u001b[0m \u001b[0;34m'wind'\u001b[0m\u001b[0;34m,\u001b[0m \u001b[0;34m'wins'\u001b[0m\u001b[0;34m,\u001b[0m\u001b[0;34m'sky'\u001b[0m\u001b[0;34m]\u001b[0m\u001b[0;34m)\u001b[0m\u001b[0;34m\u001b[0m\u001b[0;34m\u001b[0m\u001b[0m\n\u001b[0m\u001b[1;32m      2\u001b[0m \u001b[0mtot_df\u001b[0m \u001b[0;34m=\u001b[0m \u001b[0mtot_df\u001b[0m\u001b[0;34m[\u001b[0m\u001b[0;36m1\u001b[0m\u001b[0;34m:\u001b[0m\u001b[0;34m]\u001b[0m\u001b[0;34m\u001b[0m\u001b[0;34m\u001b[0m\u001b[0m\n\u001b[1;32m      3\u001b[0m \u001b[0mtot_df\u001b[0m\u001b[0;34m[\u001b[0m\u001b[0;34m'forecast_time'\u001b[0m\u001b[0;34m]\u001b[0m \u001b[0;34m=\u001b[0m \u001b[0mpd\u001b[0m\u001b[0;34m.\u001b[0m\u001b[0mto_datetime\u001b[0m\u001b[0;34m(\u001b[0m\u001b[0mtot_df\u001b[0m\u001b[0;34m[\u001b[0m\u001b[0;34m'forecast_time'\u001b[0m\u001b[0;34m]\u001b[0m\u001b[0;34m,\u001b[0m \u001b[0mformat\u001b[0m \u001b[0;34m=\u001b[0m \u001b[0;34m'%Y%m%d%H'\u001b[0m\u001b[0;34m)\u001b[0m\u001b[0;34m\u001b[0m\u001b[0;34m\u001b[0m\u001b[0m\n\u001b[1;32m      4\u001b[0m \u001b[0mdata\u001b[0m \u001b[0;34m=\u001b[0m \u001b[0mtot_df\u001b[0m\u001b[0;34m.\u001b[0m\u001b[0miloc\u001b[0m\u001b[0;34m[\u001b[0m\u001b[0;36m6\u001b[0m\u001b[0;34m:\u001b[0m\u001b[0;34m]\u001b[0m\u001b[0;34m\u001b[0m\u001b[0;34m\u001b[0m\u001b[0m\n\u001b[1;32m      5\u001b[0m \u001b[0mdata\u001b[0m\u001b[0;34m.\u001b[0m\u001b[0mhead\u001b[0m\u001b[0;34m(\u001b[0m\u001b[0;34m)\u001b[0m\u001b[0;34m\u001b[0m\u001b[0;34m\u001b[0m\u001b[0m\n",
            "\u001b[0;32m/usr/local/lib/python3.7/dist-packages/pandas/io/parsers.py\u001b[0m in \u001b[0;36mread_csv\u001b[0;34m(filepath_or_buffer, sep, delimiter, header, names, index_col, usecols, squeeze, prefix, mangle_dupe_cols, dtype, engine, converters, true_values, false_values, skipinitialspace, skiprows, skipfooter, nrows, na_values, keep_default_na, na_filter, verbose, skip_blank_lines, parse_dates, infer_datetime_format, keep_date_col, date_parser, dayfirst, cache_dates, iterator, chunksize, compression, thousands, decimal, lineterminator, quotechar, quoting, doublequote, escapechar, comment, encoding, dialect, error_bad_lines, warn_bad_lines, delim_whitespace, low_memory, memory_map, float_precision)\u001b[0m\n\u001b[1;32m    686\u001b[0m     )\n\u001b[1;32m    687\u001b[0m \u001b[0;34m\u001b[0m\u001b[0m\n\u001b[0;32m--> 688\u001b[0;31m     \u001b[0;32mreturn\u001b[0m \u001b[0m_read\u001b[0m\u001b[0;34m(\u001b[0m\u001b[0mfilepath_or_buffer\u001b[0m\u001b[0;34m,\u001b[0m \u001b[0mkwds\u001b[0m\u001b[0;34m)\u001b[0m\u001b[0;34m\u001b[0m\u001b[0;34m\u001b[0m\u001b[0m\n\u001b[0m\u001b[1;32m    689\u001b[0m \u001b[0;34m\u001b[0m\u001b[0m\n\u001b[1;32m    690\u001b[0m \u001b[0;34m\u001b[0m\u001b[0m\n",
            "\u001b[0;32m/usr/local/lib/python3.7/dist-packages/pandas/io/parsers.py\u001b[0m in \u001b[0;36m_read\u001b[0;34m(filepath_or_buffer, kwds)\u001b[0m\n\u001b[1;32m    452\u001b[0m \u001b[0;34m\u001b[0m\u001b[0m\n\u001b[1;32m    453\u001b[0m     \u001b[0;31m# Create the parser.\u001b[0m\u001b[0;34m\u001b[0m\u001b[0;34m\u001b[0m\u001b[0;34m\u001b[0m\u001b[0m\n\u001b[0;32m--> 454\u001b[0;31m     \u001b[0mparser\u001b[0m \u001b[0;34m=\u001b[0m \u001b[0mTextFileReader\u001b[0m\u001b[0;34m(\u001b[0m\u001b[0mfp_or_buf\u001b[0m\u001b[0;34m,\u001b[0m \u001b[0;34m**\u001b[0m\u001b[0mkwds\u001b[0m\u001b[0;34m)\u001b[0m\u001b[0;34m\u001b[0m\u001b[0;34m\u001b[0m\u001b[0m\n\u001b[0m\u001b[1;32m    455\u001b[0m \u001b[0;34m\u001b[0m\u001b[0m\n\u001b[1;32m    456\u001b[0m     \u001b[0;32mif\u001b[0m \u001b[0mchunksize\u001b[0m \u001b[0;32mor\u001b[0m \u001b[0miterator\u001b[0m\u001b[0;34m:\u001b[0m\u001b[0;34m\u001b[0m\u001b[0;34m\u001b[0m\u001b[0m\n",
            "\u001b[0;32m/usr/local/lib/python3.7/dist-packages/pandas/io/parsers.py\u001b[0m in \u001b[0;36m__init__\u001b[0;34m(self, f, engine, **kwds)\u001b[0m\n\u001b[1;32m    946\u001b[0m             \u001b[0mself\u001b[0m\u001b[0;34m.\u001b[0m\u001b[0moptions\u001b[0m\u001b[0;34m[\u001b[0m\u001b[0;34m\"has_index_names\"\u001b[0m\u001b[0;34m]\u001b[0m \u001b[0;34m=\u001b[0m \u001b[0mkwds\u001b[0m\u001b[0;34m[\u001b[0m\u001b[0;34m\"has_index_names\"\u001b[0m\u001b[0;34m]\u001b[0m\u001b[0;34m\u001b[0m\u001b[0;34m\u001b[0m\u001b[0m\n\u001b[1;32m    947\u001b[0m \u001b[0;34m\u001b[0m\u001b[0m\n\u001b[0;32m--> 948\u001b[0;31m         \u001b[0mself\u001b[0m\u001b[0;34m.\u001b[0m\u001b[0m_make_engine\u001b[0m\u001b[0;34m(\u001b[0m\u001b[0mself\u001b[0m\u001b[0;34m.\u001b[0m\u001b[0mengine\u001b[0m\u001b[0;34m)\u001b[0m\u001b[0;34m\u001b[0m\u001b[0;34m\u001b[0m\u001b[0m\n\u001b[0m\u001b[1;32m    949\u001b[0m \u001b[0;34m\u001b[0m\u001b[0m\n\u001b[1;32m    950\u001b[0m     \u001b[0;32mdef\u001b[0m \u001b[0mclose\u001b[0m\u001b[0;34m(\u001b[0m\u001b[0mself\u001b[0m\u001b[0;34m)\u001b[0m\u001b[0;34m:\u001b[0m\u001b[0;34m\u001b[0m\u001b[0;34m\u001b[0m\u001b[0m\n",
            "\u001b[0;32m/usr/local/lib/python3.7/dist-packages/pandas/io/parsers.py\u001b[0m in \u001b[0;36m_make_engine\u001b[0;34m(self, engine)\u001b[0m\n\u001b[1;32m   1178\u001b[0m     \u001b[0;32mdef\u001b[0m \u001b[0m_make_engine\u001b[0m\u001b[0;34m(\u001b[0m\u001b[0mself\u001b[0m\u001b[0;34m,\u001b[0m \u001b[0mengine\u001b[0m\u001b[0;34m=\u001b[0m\u001b[0;34m\"c\"\u001b[0m\u001b[0;34m)\u001b[0m\u001b[0;34m:\u001b[0m\u001b[0;34m\u001b[0m\u001b[0;34m\u001b[0m\u001b[0m\n\u001b[1;32m   1179\u001b[0m         \u001b[0;32mif\u001b[0m \u001b[0mengine\u001b[0m \u001b[0;34m==\u001b[0m \u001b[0;34m\"c\"\u001b[0m\u001b[0;34m:\u001b[0m\u001b[0;34m\u001b[0m\u001b[0;34m\u001b[0m\u001b[0m\n\u001b[0;32m-> 1180\u001b[0;31m             \u001b[0mself\u001b[0m\u001b[0;34m.\u001b[0m\u001b[0m_engine\u001b[0m \u001b[0;34m=\u001b[0m \u001b[0mCParserWrapper\u001b[0m\u001b[0;34m(\u001b[0m\u001b[0mself\u001b[0m\u001b[0;34m.\u001b[0m\u001b[0mf\u001b[0m\u001b[0;34m,\u001b[0m \u001b[0;34m**\u001b[0m\u001b[0mself\u001b[0m\u001b[0;34m.\u001b[0m\u001b[0moptions\u001b[0m\u001b[0;34m)\u001b[0m\u001b[0;34m\u001b[0m\u001b[0;34m\u001b[0m\u001b[0m\n\u001b[0m\u001b[1;32m   1181\u001b[0m         \u001b[0;32melse\u001b[0m\u001b[0;34m:\u001b[0m\u001b[0;34m\u001b[0m\u001b[0;34m\u001b[0m\u001b[0m\n\u001b[1;32m   1182\u001b[0m             \u001b[0;32mif\u001b[0m \u001b[0mengine\u001b[0m \u001b[0;34m==\u001b[0m \u001b[0;34m\"python\"\u001b[0m\u001b[0;34m:\u001b[0m\u001b[0;34m\u001b[0m\u001b[0;34m\u001b[0m\u001b[0m\n",
            "\u001b[0;32m/usr/local/lib/python3.7/dist-packages/pandas/io/parsers.py\u001b[0m in \u001b[0;36m__init__\u001b[0;34m(self, src, **kwds)\u001b[0m\n\u001b[1;32m   2008\u001b[0m         \u001b[0mkwds\u001b[0m\u001b[0;34m[\u001b[0m\u001b[0;34m\"usecols\"\u001b[0m\u001b[0;34m]\u001b[0m \u001b[0;34m=\u001b[0m \u001b[0mself\u001b[0m\u001b[0;34m.\u001b[0m\u001b[0musecols\u001b[0m\u001b[0;34m\u001b[0m\u001b[0;34m\u001b[0m\u001b[0m\n\u001b[1;32m   2009\u001b[0m \u001b[0;34m\u001b[0m\u001b[0m\n\u001b[0;32m-> 2010\u001b[0;31m         \u001b[0mself\u001b[0m\u001b[0;34m.\u001b[0m\u001b[0m_reader\u001b[0m \u001b[0;34m=\u001b[0m \u001b[0mparsers\u001b[0m\u001b[0;34m.\u001b[0m\u001b[0mTextReader\u001b[0m\u001b[0;34m(\u001b[0m\u001b[0msrc\u001b[0m\u001b[0;34m,\u001b[0m \u001b[0;34m**\u001b[0m\u001b[0mkwds\u001b[0m\u001b[0;34m)\u001b[0m\u001b[0;34m\u001b[0m\u001b[0;34m\u001b[0m\u001b[0m\n\u001b[0m\u001b[1;32m   2011\u001b[0m         \u001b[0mself\u001b[0m\u001b[0;34m.\u001b[0m\u001b[0munnamed_cols\u001b[0m \u001b[0;34m=\u001b[0m \u001b[0mself\u001b[0m\u001b[0;34m.\u001b[0m\u001b[0m_reader\u001b[0m\u001b[0;34m.\u001b[0m\u001b[0munnamed_cols\u001b[0m\u001b[0;34m\u001b[0m\u001b[0;34m\u001b[0m\u001b[0m\n\u001b[1;32m   2012\u001b[0m \u001b[0;34m\u001b[0m\u001b[0m\n",
            "\u001b[0;32mpandas/_libs/parsers.pyx\u001b[0m in \u001b[0;36mpandas._libs.parsers.TextReader.__cinit__\u001b[0;34m()\u001b[0m\n",
            "\u001b[0;32mpandas/_libs/parsers.pyx\u001b[0m in \u001b[0;36mpandas._libs.parsers.TextReader._setup_parser_source\u001b[0;34m()\u001b[0m\n",
            "\u001b[0;31mFileNotFoundError\u001b[0m: [Errno 2] No such file or directory: '/content/drive/MyDrive/KDT/tot_df.csv'"
          ]
        }
      ]
    },
    {
      "cell_type": "markdown",
      "metadata": {
        "id": "bVNxJA8iIbkP"
      },
      "source": [
        "#01. 학습 데이터 전처리"
      ]
    },
    {
      "cell_type": "code",
      "metadata": {
        "id": "7U8lR9VlfhTP"
      },
      "source": [
        "data['hour'] = tot_df['forecast_time'].apply(lambda x : x.hour)\n",
        "data['year'] = tot_df['forecast_time'].apply(lambda x : x.year)\n",
        "data['month'] = tot_df['forecast_time'].apply(lambda x : x.month)\n",
        "data['day'] = tot_df['forecast_time'].apply(lambda x : x.day)"
      ],
      "execution_count": null,
      "outputs": []
    },
    {
      "cell_type": "code",
      "metadata": {
        "id": "Lqd2qajldvpF"
      },
      "source": [
        "dataset = data.loc[:,'solar_result' :].astype('float')\n",
        "dataset.isnull().sum()"
      ],
      "execution_count": null,
      "outputs": []
    },
    {
      "cell_type": "code",
      "metadata": {
        "id": "CeUCJBX1bA-E"
      },
      "source": [
        "train = data.iloc[:round(len(data)*0.7)]\n",
        "test = data.iloc[round(len(data)*0.7):]"
      ],
      "execution_count": null,
      "outputs": []
    },
    {
      "cell_type": "code",
      "metadata": {
        "id": "hwRq5OxRhSoV"
      },
      "source": [
        "plt.figure(figsize=(10,8))\n",
        "sns.heatmap(data=dataset.corr(), annot=True,\n",
        "fmt='.2f', linewidths=.5, cmap='Blues')"
      ],
      "execution_count": null,
      "outputs": []
    },
    {
      "cell_type": "code",
      "metadata": {
        "id": "b1iAv0Nzh04E"
      },
      "source": [
        "dataset.columns"
      ],
      "execution_count": null,
      "outputs": []
    },
    {
      "cell_type": "code",
      "metadata": {
        "id": "UZcXzUwDhrdE"
      },
      "source": [
        "sns.pairplot(dataset, x_vars=['temp', 'rain_r', 'hum', 'wind', 'wins', 'sky', 'hour',\n",
        "       'year', 'month', 'day'],y_vars=['solar_result'])"
      ],
      "execution_count": null,
      "outputs": []
    },
    {
      "cell_type": "markdown",
      "metadata": {
        "id": "MJXETKTUg6vF"
      },
      "source": [
        "# LR"
      ]
    },
    {
      "cell_type": "code",
      "metadata": {
        "id": "kN5NXOU1g8zy"
      },
      "source": [
        "from statsmodels.formula.api import ols\n",
        "from sklearn.preprocessing import MinMaxScaler"
      ],
      "execution_count": null,
      "outputs": []
    },
    {
      "cell_type": "code",
      "metadata": {
        "id": "7nX0B2ahiKGd"
      },
      "source": [
        "scaler = MinMaxScaler()"
      ],
      "execution_count": null,
      "outputs": []
    },
    {
      "cell_type": "code",
      "metadata": {
        "id": "tF38zXaAit7j"
      },
      "source": [
        "scaler.fit(dataset)"
      ],
      "execution_count": null,
      "outputs": []
    },
    {
      "cell_type": "code",
      "metadata": {
        "id": "6iM8SOO3i5SL"
      },
      "source": [
        "train = dataset.iloc[:round(len(dataset)*0.7)]\n",
        "test = dataset.iloc[round(len(dataset)*0.7):]"
      ],
      "execution_count": null,
      "outputs": []
    },
    {
      "cell_type": "code",
      "metadata": {
        "id": "3qYz14tqiyTn"
      },
      "source": [
        "train = train.iloc[:round(len(train)*0.85)]\n",
        "validation = train.iloc[round(len(train)*0.85):]"
      ],
      "execution_count": null,
      "outputs": []
    },
    {
      "cell_type": "code",
      "metadata": {
        "id": "SRlpYvImi-an"
      },
      "source": [
        "X = train.loc[:,'temp' :]\n",
        "y = train.loc[:,'solar_result']\n",
        "res = ols('y~X', data = train).fit()"
      ],
      "execution_count": null,
      "outputs": []
    },
    {
      "cell_type": "code",
      "metadata": {
        "id": "0hErjb3vjtxY"
      },
      "source": [
        "X.columns"
      ],
      "execution_count": null,
      "outputs": []
    },
    {
      "cell_type": "code",
      "metadata": {
        "id": "EtmyVK2Sjj3R"
      },
      "source": [
        "res.summary() #wind, wins, day 제외"
      ],
      "execution_count": null,
      "outputs": []
    },
    {
      "cell_type": "code",
      "metadata": {
        "id": "eRxtmXzZkU2C"
      },
      "source": [
        "from sklearn import datasets, linear_model\n",
        "from sklearn.model_selection import train_test_split"
      ],
      "execution_count": null,
      "outputs": []
    },
    {
      "cell_type": "code",
      "metadata": {
        "id": "HbSH9o72kceO"
      },
      "source": [
        "lm = linear_model.LinearRegression()\n",
        "model = lm.fit(X, y)\n",
        "X_test = validation.loc[:,'temp' :]\n",
        "predictions = lm.predict(X_test)\n",
        "predictions[0:5]"
      ],
      "execution_count": null,
      "outputs": []
    },
    {
      "cell_type": "code",
      "metadata": {
        "id": "euNgYIsMkr7N"
      },
      "source": [
        "plt.figure(figsize=(12,12))\n",
        "y_test = validation.loc[:,'solar_result']\n",
        "plt.scatter(y_test, predictions)\n",
        "plt.xlabel(\"True Values\")\n",
        "plt.ylabel(\"Predictions\")"
      ],
      "execution_count": null,
      "outputs": []
    },
    {
      "cell_type": "code",
      "metadata": {
        "id": "Zdrrv4QSk-ax"
      },
      "source": [
        "model.score(X_test, y_test)"
      ],
      "execution_count": null,
      "outputs": []
    },
    {
      "cell_type": "code",
      "metadata": {
        "id": "ZvD4Y1jxlKVB"
      },
      "source": [
        "from sklearn.linear_model import LinearRegression, Ridge, Lasso, ElasticNet\n",
        "\n",
        "model_ridge_alpha_10 = Ridge(alpha=10).fit(X, y)\n",
        "\n",
        "print(\"훈련 세트 점수: {:f}\".format(model_ridge_alpha_10.score(X, y)))\n",
        "print(\"테스트 세트 점수: {:f}\".format(model_ridge_alpha_10.score(X_test, y_test)))"
      ],
      "execution_count": null,
      "outputs": []
    },
    {
      "cell_type": "markdown",
      "metadata": {
        "id": "OzevGxKMljbd"
      },
      "source": [
        "#ensemble"
      ]
    },
    {
      "cell_type": "code",
      "metadata": {
        "id": "i-G83sAVli3o"
      },
      "source": [
        "from sklearn.ensemble import GradientBoostingRegressor\n",
        "\n",
        "# 모델생성과 학습\n",
        "model_gradient = GradientBoostingRegressor(n_estimators=500)\n",
        "model_gradient.fit(X, y)\n",
        "\n",
        "# 훈련과 테스트 스코어 비교\n",
        "print(\"훈련 세트 점수: {:f}\".format(model_gradient.score(X, y)))\n",
        "print(\"테스트 세트 점수: {:f}\".format(model_gradient.score(X_test, y_test)))"
      ],
      "execution_count": null,
      "outputs": []
    },
    {
      "cell_type": "code",
      "metadata": {
        "id": "iJKAMUTomO9t"
      },
      "source": [
        "from sklearn.svm import SVR\n",
        "from sklearn.pipeline import make_pipeline\n",
        "from sklearn.preprocessing import StandardScaler\n",
        "import numpy as np\n",
        "\n",
        "SupportVectorRegModel = make_pipeline(StandardScaler(), SVR(C=1000.0, epsilon=0.2))\n",
        "SupportVectorRegModel.fit(X, y)\n",
        "\n",
        "# 훈련과 테스트 스코어 비교\n",
        "print(\"훈련 세트 점수: {:f}\".format(SupportVectorRegModel.score(X, y)))\n",
        "print(\"테스트 세트 점수: {:f}\".format(SupportVectorRegModel.score(X_test, y_test)))"
      ],
      "execution_count": null,
      "outputs": []
    },
    {
      "cell_type": "code",
      "metadata": {
        "id": "A26iIKvSl2N3"
      },
      "source": [
        "predictions = model_gradient.predict(X_test)\n",
        "list = []\n",
        "for i in range(len(y_train), len(y_train)+len(y_test)):\n",
        "    list.append(i)\n",
        "\n",
        "plt.figure(figsize=(40,12))\n",
        "plt.xlabel('index', fontsize=18)\n",
        "plt.ylabel('발전량', fontsize=18)\n",
        "plt.plot(list, y_test, color='blue', marker='^', label='실제 발전량')\n",
        "plt.plot(list, predictions, color='red', marker='o', label='예상 발전량')\n",
        "plt.legend(fontsize='xx-large')\n",
        "# plt.savefig('./predictions_1.png') # test = 0.1\n",
        "# plt.savefig('./predictions_2.png') # test = 0.2\n",
        "plt.show()"
      ],
      "execution_count": null,
      "outputs": []
    },
    {
      "cell_type": "code",
      "metadata": {
        "id": "4QW64KPcnPq5"
      },
      "source": [
        "from sklearn.ensemble import RandomForestRegressor\n",
        "# 모델생성과 학습\n",
        "model_randomForest = RandomForestRegressor(n_estimators=10)\n",
        "model_randomForest.fit(X, y)\n",
        "\n",
        "# 훈련과 테스트 스코어 비교\n",
        "print(\"훈련 세트 점수: {:f}\".format(model_randomForest.score(X, y)))\n",
        "print(\"테스트 세트 점수: {:f}\".format(model_randomForest.score(X_test, y_test)))"
      ],
      "execution_count": null,
      "outputs": []
    },
    {
      "cell_type": "code",
      "metadata": {
        "id": "fXkQRZJwnwkG"
      },
      "source": [
        "predictions = model_randomForest.predict(X_test)\n",
        "plt.figure(figsize=(12,12))\n",
        "plt.scatter(y_test, predictions)\n",
        "plt.xlabel(\"True Values\")\n",
        "plt.ylabel(\"Predictions\")"
      ],
      "execution_count": null,
      "outputs": []
    },
    {
      "cell_type": "markdown",
      "metadata": {
        "id": "GiWjnpPOg4X8"
      },
      "source": [
        "#LGB"
      ]
    },
    {
      "cell_type": "markdown",
      "metadata": {
        "id": "jG8oB_SvbhSW"
      },
      "source": [
        "LightGBM Custom Metric"
      ]
    },
    {
      "cell_type": "code",
      "metadata": {
        "id": "4a5Ve2odbfNR"
      },
      "source": [
        "train = train.iloc[:round(len(data)*0.85)]\n",
        "validation = train.iloc[round(len(data)*0.85):]"
      ],
      "execution_count": null,
      "outputs": []
    },
    {
      "cell_type": "code",
      "metadata": {
        "id": "HDD5HdogbvwE"
      },
      "source": [
        "def nmae_10(y_pred, dataset):\n",
        "    y_true = dataset.get_label()\n",
        "    \n",
        "    absolute_error = abs(y_true - y_pred)\n",
        "    absolute_error /= capacity\n",
        "    \n",
        "    target_idx = np.where(y_true>=capacity*0.1)\n",
        "    \n",
        "    nmae = 100 * absolute_error[target_idx].mean()\n",
        "    \n",
        "    return 'score', nmae, False"
      ],
      "execution_count": null,
      "outputs": []
    },
    {
      "cell_type": "markdown",
      "metadata": {
        "id": "K5lNMJjXbxlj"
      },
      "source": [
        "Validation Metric"
      ]
    },
    {
      "cell_type": "code",
      "metadata": {
        "id": "gyBaaH8ib0-i"
      },
      "source": [
        "def sola_nmae(answer, pred):\n",
        "    absolute_error = np.abs(answer - pred)\n",
        "    \n",
        "    absolute_error /= capacity\n",
        "    \n",
        "    target_idx = np.where(answer>=capacity*0.1)\n",
        "    \n",
        "    nmae = 100 * absolute_error[target_idx].mean()\n",
        "    \n",
        "    return nmae"
      ],
      "execution_count": null,
      "outputs": []
    },
    {
      "cell_type": "markdown",
      "metadata": {
        "id": "y0OkPeGvb6Et"
      },
      "source": [
        "LightGBM Hyperparameter"
      ]
    },
    {
      "cell_type": "code",
      "metadata": {
        "id": "AkZOvPJNb8Lr"
      },
      "source": [
        "params = {\n",
        "    'learning_rate': 0.01,\n",
        "    'objective': 'regression',\n",
        "    'metric':'mae',\n",
        "    'seed':42\n",
        "}"
      ],
      "execution_count": null,
      "outputs": []
    },
    {
      "cell_type": "code",
      "metadata": {
        "id": "FagxXozncQbS"
      },
      "source": [
        "import lightgbm as lgb\n",
        "from xgboost import plot_importance\n",
        "\n",
        "from sklearn.datasets import load_breast_cancer\n",
        "from sklearn.model_selection import train_test_split\n",
        "import warnings"
      ],
      "execution_count": null,
      "outputs": []
    },
    {
      "cell_type": "code",
      "metadata": {
        "id": "H3NRUR_Sb9g3"
      },
      "source": [
        "train_x = train.iloc[:, 2:]\n",
        "train_y = train.loc[:,'solar_result']\n",
        "val_x = validation.iloc[:, 2:]\n",
        "val_y = validation.loc[:,'solar_result']"
      ],
      "execution_count": null,
      "outputs": []
    },
    {
      "cell_type": "code",
      "metadata": {
        "id": "rSFx-edufPBR"
      },
      "source": [
        "train_y"
      ],
      "execution_count": null,
      "outputs": []
    },
    {
      "cell_type": "code",
      "metadata": {
        "id": "TEJBXkVQdYA3"
      },
      "source": [
        "train_dataset = lgb.Dataset(train_x, train_y)\n",
        "val_dataset = lgb.Dataset(val_x, val_y)\n",
        "capacity = 1000\n",
        "dangjin_floating_model = lgb.train(params, train_dataset, 10000, val_dataset, feval=nmae_10, verbose_eval=500, early_stopping_rounds=100)"
      ],
      "execution_count": null,
      "outputs": []
    },
    {
      "cell_type": "code",
      "metadata": {
        "id": "cSrayVrOdcB6"
      },
      "source": [
        ""
      ],
      "execution_count": null,
      "outputs": []
    }
  ]
}