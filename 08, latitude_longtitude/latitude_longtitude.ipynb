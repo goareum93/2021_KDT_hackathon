{
  "nbformat": 4,
  "nbformat_minor": 0,
  "metadata": {
    "colab": {
      "name": "latitude_longtitude.ipynb",
      "provenance": []
    },
    "kernelspec": {
      "name": "python3",
      "display_name": "Python 3"
    },
    "language_info": {
      "name": "python"
    }
  },
  "cells": [
    {
      "cell_type": "code",
      "metadata": {
        "id": "-xURQm0qBU59"
      },
      "source": [
        "import math"
      ],
      "execution_count": 13,
      "outputs": []
    },
    {
      "cell_type": "code",
      "metadata": {
        "colab": {
          "base_uri": "https://localhost:8080/"
        },
        "id": "2VzXh9WyAJ-4",
        "outputId": "9cbd6540-cdb6-41e7-f72e-3c9b0d8aca8b"
      },
      "source": [
        "date = [1, 11, 21, 31, 41, 51, 61, 71, 81, 91, 101, 111, 121, 131, 141, 151, 161, 171, 181, 191, 201, 211, 221, 231, 241, 251, 261, 271, 281, 291, 301, 311, 321, 331, 341, 351, 361]\n",
        "date"
      ],
      "execution_count": 3,
      "outputs": [
        {
          "output_type": "execute_result",
          "data": {
            "text/plain": [
              "[1,\n",
              " 11,\n",
              " 21,\n",
              " 31,\n",
              " 41,\n",
              " 51,\n",
              " 61,\n",
              " 71,\n",
              " 81,\n",
              " 91,\n",
              " 101,\n",
              " 111,\n",
              " 121,\n",
              " 131,\n",
              " 141,\n",
              " 151,\n",
              " 161,\n",
              " 171,\n",
              " 181,\n",
              " 191,\n",
              " 201,\n",
              " 211,\n",
              " 221,\n",
              " 231,\n",
              " 241,\n",
              " 251,\n",
              " 261,\n",
              " 271,\n",
              " 281,\n",
              " 291,\n",
              " 301,\n",
              " 311,\n",
              " 321,\n",
              " 331,\n",
              " 341,\n",
              " 351,\n",
              " 361]"
            ]
          },
          "metadata": {
            "tags": []
          },
          "execution_count": 3
        }
      ]
    },
    {
      "cell_type": "code",
      "metadata": {
        "colab": {
          "base_uri": "https://localhost:8080/"
        },
        "id": "eCJeHrqiA_Ie",
        "outputId": "834dd289-de68-4271-ad88-4f9e6460fdc9"
      },
      "source": [
        "len(date)"
      ],
      "execution_count": 5,
      "outputs": [
        {
          "output_type": "execute_result",
          "data": {
            "text/plain": [
              "37"
            ]
          },
          "metadata": {
            "tags": []
          },
          "execution_count": 5
        }
      ]
    },
    {
      "cell_type": "code",
      "metadata": {
        "colab": {
          "base_uri": "https://localhost:8080/"
        },
        "id": "_JhoqV17B8mp",
        "outputId": "25308950-1081-4f5d-9247-6797cfd8f81b"
      },
      "source": [
        "type(date[1])"
      ],
      "execution_count": 8,
      "outputs": [
        {
          "output_type": "execute_result",
          "data": {
            "text/plain": [
              "int"
            ]
          },
          "metadata": {
            "tags": []
          },
          "execution_count": 8
        }
      ]
    },
    {
      "cell_type": "code",
      "metadata": {
        "colab": {
          "base_uri": "https://localhost:8080/"
        },
        "id": "bdj1Y2wvCcw4",
        "outputId": "49444842-ff17-459c-a90c-57d936af07a4"
      },
      "source": [
        "math.cos(math.pi)"
      ],
      "execution_count": 15,
      "outputs": [
        {
          "output_type": "execute_result",
          "data": {
            "text/plain": [
              "-1.0"
            ]
          },
          "metadata": {
            "tags": []
          },
          "execution_count": 15
        }
      ]
    },
    {
      "cell_type": "code",
      "metadata": {
        "colab": {
          "base_uri": "https://localhost:8080/"
        },
        "id": "QXHka9WODOss",
        "outputId": "ebf42860-6881-448f-fe12-0188e6e6ff38"
      },
      "source": [
        " -23.44*math.cos(math.radians(360/365*(date[1]+10)))"
      ],
      "execution_count": 19,
      "outputs": [
        {
          "output_type": "execute_result",
          "data": {
            "text/plain": [
              "-21.925024731900198"
            ]
          },
          "metadata": {
            "tags": []
          },
          "execution_count": 19
        }
      ]
    },
    {
      "cell_type": "code",
      "metadata": {
        "id": "4ARd6TD3AySX"
      },
      "source": [
        "# 적위\n",
        "declination = []\n",
        "\n",
        "for i in range(len(date)-1):\n",
        "  \n",
        "  a = -23.44*math.cos(math.radians(360/365*(date[i]+10)))\n",
        "  declination.append(a)"
      ],
      "execution_count": 33,
      "outputs": []
    },
    {
      "cell_type": "code",
      "metadata": {
        "colab": {
          "base_uri": "https://localhost:8080/"
        },
        "id": "rKh_McGeC4PU",
        "outputId": "7fc2834c-2044-4fa2-8354-18c7b88e0ee5"
      },
      "source": [
        "declination"
      ],
      "execution_count": 34,
      "outputs": [
        {
          "output_type": "execute_result",
          "data": {
            "text/plain": [
              "[-23.021024201545934,\n",
              " -21.925024731900198,\n",
              " -20.180926212438028,\n",
              " -17.84028382300856,\n",
              " -14.972286452887799,\n",
              " -11.661711491984315,\n",
              " -8.006418829294535,\n",
              " -4.114458135478277,\n",
              " -0.10087493766396613,\n",
              " 3.91569010176967,\n",
              " 7.8165081778423,\n",
              " 11.486271941097149,\n",
              " 14.816503958231454,\n",
              " 17.708763281863625,\n",
              " 20.077555343919524,\n",
              " 21.85285915681059,\n",
              " 22.982197118876655,\n",
              " 23.432186241086384,\n",
              " 23.18952494106539,\n",
              " 22.26138623503116,\n",
              " 20.675205704965215,\n",
              " 18.477870508667515,\n",
              " 15.734333405382948,\n",
              " 12.525692766106156,\n",
              " 8.946795323050496,\n",
              " 5.103432520494716,\n",
              " 1.1092133422778137,\n",
              " -2.917793945506327,\n",
              " -6.858551867245676,\n",
              " -10.596572460173201,\n",
              " -14.02136063367467,\n",
              " -17.031680380575164,\n",
              " -19.538547291896073,\n",
              " -21.467858916985204,\n",
              " -22.762585216136358,\n",
              " -23.38445435638637]"
            ]
          },
          "metadata": {
            "tags": []
          },
          "execution_count": 34
        }
      ]
    },
    {
      "cell_type": "code",
      "metadata": {
        "colab": {
          "base_uri": "https://localhost:8080/"
        },
        "id": "7PPJcqfFEun5",
        "outputId": "e70ebb18-d6a5-4ef3-9df1-12a3c24b24fd"
      },
      "source": [
        "len(declination)"
      ],
      "execution_count": 35,
      "outputs": [
        {
          "output_type": "execute_result",
          "data": {
            "text/plain": [
              "36"
            ]
          },
          "metadata": {
            "tags": []
          },
          "execution_count": 35
        }
      ]
    },
    {
      "cell_type": "code",
      "metadata": {
        "colab": {
          "base_uri": "https://localhost:8080/"
        },
        "id": "UfbKpJ0fDibx",
        "outputId": "bf8f29c1-dd03-49b6-93e0-40006ae1b763"
      },
      "source": [
        "# 로컬 타임\n",
        "local_time = list(range(0,25))\n",
        "local_time"
      ],
      "execution_count": 40,
      "outputs": [
        {
          "output_type": "execute_result",
          "data": {
            "text/plain": [
              "[0,\n",
              " 1,\n",
              " 2,\n",
              " 3,\n",
              " 4,\n",
              " 5,\n",
              " 6,\n",
              " 7,\n",
              " 8,\n",
              " 9,\n",
              " 10,\n",
              " 11,\n",
              " 12,\n",
              " 13,\n",
              " 14,\n",
              " 15,\n",
              " 16,\n",
              " 17,\n",
              " 18,\n",
              " 19,\n",
              " 20,\n",
              " 21,\n",
              " 22,\n",
              " 23,\n",
              " 24]"
            ]
          },
          "metadata": {
            "tags": []
          },
          "execution_count": 40
        }
      ]
    },
    {
      "cell_type": "code",
      "metadata": {
        "colab": {
          "base_uri": "https://localhost:8080/"
        },
        "id": "tWNyDoogEmOW",
        "outputId": "e8717a42-e2c8-458d-e6fa-5f824af408eb"
      },
      "source": [
        "len(local_time)"
      ],
      "execution_count": 41,
      "outputs": [
        {
          "output_type": "execute_result",
          "data": {
            "text/plain": [
              "25"
            ]
          },
          "metadata": {
            "tags": []
          },
          "execution_count": 41
        }
      ]
    },
    {
      "cell_type": "code",
      "metadata": {
        "id": "T3dUnJp2EHOQ"
      },
      "source": [
        "# 시간각(h)\n",
        "hour_angle = []\n",
        "\n",
        "for i in range(len(local_time)-1):\n",
        "  a = -180+local_time[i]*15\n",
        "  hour_angle.append(a)"
      ],
      "execution_count": 42,
      "outputs": []
    },
    {
      "cell_type": "code",
      "metadata": {
        "colab": {
          "base_uri": "https://localhost:8080/"
        },
        "id": "r8ax0tcSEgpG",
        "outputId": "69dc25e7-80d7-4e05-8651-fa916fb67885"
      },
      "source": [
        "hour_angle"
      ],
      "execution_count": 43,
      "outputs": [
        {
          "output_type": "execute_result",
          "data": {
            "text/plain": [
              "[-180,\n",
              " -165,\n",
              " -150,\n",
              " -135,\n",
              " -120,\n",
              " -105,\n",
              " -90,\n",
              " -75,\n",
              " -60,\n",
              " -45,\n",
              " -30,\n",
              " -15,\n",
              " 0,\n",
              " 15,\n",
              " 30,\n",
              " 45,\n",
              " 60,\n",
              " 75,\n",
              " 90,\n",
              " 105,\n",
              " 120,\n",
              " 135,\n",
              " 150,\n",
              " 165]"
            ]
          },
          "metadata": {
            "tags": []
          },
          "execution_count": 43
        }
      ]
    },
    {
      "cell_type": "code",
      "metadata": {
        "id": "Bje69lFiFcXB"
      },
      "source": [
        ""
      ],
      "execution_count": null,
      "outputs": []
    }
  ]
}